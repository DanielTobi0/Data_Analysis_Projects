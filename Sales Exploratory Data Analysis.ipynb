{
 "cells": [
  {
   "cell_type": "markdown",
   "id": "f2ae83da",
   "metadata": {},
   "source": [
    "<h1>Sales Exploratory Data Analysis <h1>"
   ]
  },
  {
   "cell_type": "markdown",
   "id": "93c367b3",
   "metadata": {},
   "source": [
    "<h2>1) Importing the required modules <h2>"
   ]
  },
  {
   "cell_type": "code",
   "execution_count": 1,
   "id": "e5d689c0-7394-44a0-b667-45b01cb836db",
   "metadata": {},
   "outputs": [],
   "source": [
    "import pandas as pd\n",
    "import numpy as np\n",
    "import seaborn as sns\n",
    "import matplotlib.pyplot as plt"
   ]
  },
  {
   "cell_type": "markdown",
   "id": "62dfe72f",
   "metadata": {},
   "source": [
    "<h2>2) Loading the Dataset<h2>"
   ]
  },
  {
   "cell_type": "code",
   "execution_count": 2,
   "id": "c14789d0-83ad-4f7c-9afc-14bd298c3cca",
   "metadata": {},
   "outputs": [
    {
     "data": {
      "text/html": [
       "<div>\n",
       "<style scoped>\n",
       "    .dataframe tbody tr th:only-of-type {\n",
       "        vertical-align: middle;\n",
       "    }\n",
       "\n",
       "    .dataframe tbody tr th {\n",
       "        vertical-align: top;\n",
       "    }\n",
       "\n",
       "    .dataframe thead th {\n",
       "        text-align: right;\n",
       "    }\n",
       "</style>\n",
       "<table border=\"1\" class=\"dataframe\">\n",
       "  <thead>\n",
       "    <tr style=\"text-align: right;\">\n",
       "      <th></th>\n",
       "      <th>ORDERNUMBER</th>\n",
       "      <th>QUANTITYORDERED</th>\n",
       "      <th>PRICEEACH</th>\n",
       "      <th>ORDERLINENUMBER</th>\n",
       "      <th>SALES</th>\n",
       "      <th>ORDERDATE</th>\n",
       "      <th>STATUS</th>\n",
       "      <th>QTR_ID</th>\n",
       "      <th>MONTH_ID</th>\n",
       "      <th>YEAR_ID</th>\n",
       "      <th>PRODUCTLINE</th>\n",
       "      <th>MSRP</th>\n",
       "      <th>PRODUCTCODE</th>\n",
       "      <th>CUSTOMERNAME</th>\n",
       "      <th>PHONE</th>\n",
       "      <th>ADDRESSLINE1</th>\n",
       "      <th>ADDRESSLINE2</th>\n",
       "      <th>CITY</th>\n",
       "      <th>STATE</th>\n",
       "      <th>POSTALCODE</th>\n",
       "      <th>COUNTRY</th>\n",
       "      <th>TERRITORY</th>\n",
       "      <th>CONTACTLASTNAME</th>\n",
       "      <th>CONTACTFIRSTNAME</th>\n",
       "      <th>DEALSIZE</th>\n",
       "    </tr>\n",
       "  </thead>\n",
       "  <tbody>\n",
       "    <tr>\n",
       "      <th>0</th>\n",
       "      <td>10107</td>\n",
       "      <td>30</td>\n",
       "      <td>95.70</td>\n",
       "      <td>2</td>\n",
       "      <td>2871.00</td>\n",
       "      <td>2/24/2003 0:00</td>\n",
       "      <td>Shipped</td>\n",
       "      <td>1</td>\n",
       "      <td>2</td>\n",
       "      <td>2003</td>\n",
       "      <td>Motorcycles</td>\n",
       "      <td>95</td>\n",
       "      <td>S10_1678</td>\n",
       "      <td>Land of Toys Inc.</td>\n",
       "      <td>2125557818</td>\n",
       "      <td>897 Long Airport Avenue</td>\n",
       "      <td>NaN</td>\n",
       "      <td>NYC</td>\n",
       "      <td>NY</td>\n",
       "      <td>10022</td>\n",
       "      <td>USA</td>\n",
       "      <td>NaN</td>\n",
       "      <td>Yu</td>\n",
       "      <td>Kwai</td>\n",
       "      <td>Small</td>\n",
       "    </tr>\n",
       "    <tr>\n",
       "      <th>1</th>\n",
       "      <td>10121</td>\n",
       "      <td>34</td>\n",
       "      <td>81.35</td>\n",
       "      <td>5</td>\n",
       "      <td>2765.90</td>\n",
       "      <td>5/7/2003 0:00</td>\n",
       "      <td>Shipped</td>\n",
       "      <td>2</td>\n",
       "      <td>5</td>\n",
       "      <td>2003</td>\n",
       "      <td>Motorcycles</td>\n",
       "      <td>95</td>\n",
       "      <td>S10_1678</td>\n",
       "      <td>Reims Collectables</td>\n",
       "      <td>26.47.1555</td>\n",
       "      <td>59 rue de l'Abbaye</td>\n",
       "      <td>NaN</td>\n",
       "      <td>Reims</td>\n",
       "      <td>NaN</td>\n",
       "      <td>51100</td>\n",
       "      <td>France</td>\n",
       "      <td>EMEA</td>\n",
       "      <td>Henriot</td>\n",
       "      <td>Paul</td>\n",
       "      <td>Small</td>\n",
       "    </tr>\n",
       "    <tr>\n",
       "      <th>2</th>\n",
       "      <td>10134</td>\n",
       "      <td>41</td>\n",
       "      <td>94.74</td>\n",
       "      <td>2</td>\n",
       "      <td>3884.34</td>\n",
       "      <td>7/1/2003 0:00</td>\n",
       "      <td>Shipped</td>\n",
       "      <td>3</td>\n",
       "      <td>7</td>\n",
       "      <td>2003</td>\n",
       "      <td>Motorcycles</td>\n",
       "      <td>95</td>\n",
       "      <td>S10_1678</td>\n",
       "      <td>Lyon Souveniers</td>\n",
       "      <td>+33 1 46 62 7555</td>\n",
       "      <td>27 rue du Colonel Pierre Avia</td>\n",
       "      <td>NaN</td>\n",
       "      <td>Paris</td>\n",
       "      <td>NaN</td>\n",
       "      <td>75508</td>\n",
       "      <td>France</td>\n",
       "      <td>EMEA</td>\n",
       "      <td>Da Cunha</td>\n",
       "      <td>Daniel</td>\n",
       "      <td>Medium</td>\n",
       "    </tr>\n",
       "    <tr>\n",
       "      <th>3</th>\n",
       "      <td>10145</td>\n",
       "      <td>45</td>\n",
       "      <td>83.26</td>\n",
       "      <td>6</td>\n",
       "      <td>3746.70</td>\n",
       "      <td>8/25/2003 0:00</td>\n",
       "      <td>Shipped</td>\n",
       "      <td>3</td>\n",
       "      <td>8</td>\n",
       "      <td>2003</td>\n",
       "      <td>Motorcycles</td>\n",
       "      <td>95</td>\n",
       "      <td>S10_1678</td>\n",
       "      <td>Toys4GrownUps.com</td>\n",
       "      <td>6265557265</td>\n",
       "      <td>78934 Hillside Dr.</td>\n",
       "      <td>NaN</td>\n",
       "      <td>Pasadena</td>\n",
       "      <td>CA</td>\n",
       "      <td>90003</td>\n",
       "      <td>USA</td>\n",
       "      <td>NaN</td>\n",
       "      <td>Young</td>\n",
       "      <td>Julie</td>\n",
       "      <td>Medium</td>\n",
       "    </tr>\n",
       "  </tbody>\n",
       "</table>\n",
       "</div>"
      ],
      "text/plain": [
       "   ORDERNUMBER  QUANTITYORDERED  PRICEEACH  ORDERLINENUMBER    SALES  \\\n",
       "0        10107               30      95.70                2  2871.00   \n",
       "1        10121               34      81.35                5  2765.90   \n",
       "2        10134               41      94.74                2  3884.34   \n",
       "3        10145               45      83.26                6  3746.70   \n",
       "\n",
       "        ORDERDATE   STATUS  QTR_ID  MONTH_ID  YEAR_ID  PRODUCTLINE  MSRP  \\\n",
       "0  2/24/2003 0:00  Shipped       1         2     2003  Motorcycles    95   \n",
       "1   5/7/2003 0:00  Shipped       2         5     2003  Motorcycles    95   \n",
       "2   7/1/2003 0:00  Shipped       3         7     2003  Motorcycles    95   \n",
       "3  8/25/2003 0:00  Shipped       3         8     2003  Motorcycles    95   \n",
       "\n",
       "  PRODUCTCODE        CUSTOMERNAME             PHONE  \\\n",
       "0    S10_1678   Land of Toys Inc.        2125557818   \n",
       "1    S10_1678  Reims Collectables        26.47.1555   \n",
       "2    S10_1678     Lyon Souveniers  +33 1 46 62 7555   \n",
       "3    S10_1678   Toys4GrownUps.com        6265557265   \n",
       "\n",
       "                    ADDRESSLINE1 ADDRESSLINE2      CITY STATE POSTALCODE  \\\n",
       "0        897 Long Airport Avenue          NaN       NYC    NY      10022   \n",
       "1             59 rue de l'Abbaye          NaN     Reims   NaN      51100   \n",
       "2  27 rue du Colonel Pierre Avia          NaN     Paris   NaN      75508   \n",
       "3             78934 Hillside Dr.          NaN  Pasadena    CA      90003   \n",
       "\n",
       "  COUNTRY TERRITORY CONTACTLASTNAME CONTACTFIRSTNAME DEALSIZE  \n",
       "0     USA       NaN              Yu             Kwai    Small  \n",
       "1  France      EMEA         Henriot             Paul    Small  \n",
       "2  France      EMEA        Da Cunha           Daniel   Medium  \n",
       "3     USA       NaN           Young            Julie   Medium  "
      ]
     },
     "execution_count": 2,
     "metadata": {},
     "output_type": "execute_result"
    }
   ],
   "source": [
    "data = pd.read_csv(\"sales_data_sample.csv\", sep=\",\", encoding='Latin-1')\n",
    "pd.set_option('display.max_columns', None)\n",
    "data.head(4)"
   ]
  },
  {
   "cell_type": "markdown",
   "id": "54dec4e3",
   "metadata": {},
   "source": [
    "<h2>3) Exploring the dataframe<h2>"
   ]
  },
  {
   "cell_type": "code",
   "execution_count": 3,
   "id": "7b54b52f",
   "metadata": {},
   "outputs": [
    {
     "data": {
      "text/plain": [
       "(2823, 25)"
      ]
     },
     "execution_count": 3,
     "metadata": {},
     "output_type": "execute_result"
    }
   ],
   "source": [
    "data.shape"
   ]
  },
  {
   "cell_type": "code",
   "execution_count": 4,
   "id": "333f0ec1",
   "metadata": {},
   "outputs": [
    {
     "name": "stdout",
     "output_type": "stream",
     "text": [
      "<class 'pandas.core.frame.DataFrame'>\n",
      "RangeIndex: 2823 entries, 0 to 2822\n",
      "Data columns (total 25 columns):\n",
      " #   Column            Non-Null Count  Dtype  \n",
      "---  ------            --------------  -----  \n",
      " 0   ORDERNUMBER       2823 non-null   int64  \n",
      " 1   QUANTITYORDERED   2823 non-null   int64  \n",
      " 2   PRICEEACH         2823 non-null   float64\n",
      " 3   ORDERLINENUMBER   2823 non-null   int64  \n",
      " 4   SALES             2823 non-null   float64\n",
      " 5   ORDERDATE         2823 non-null   object \n",
      " 6   STATUS            2823 non-null   object \n",
      " 7   QTR_ID            2823 non-null   int64  \n",
      " 8   MONTH_ID          2823 non-null   int64  \n",
      " 9   YEAR_ID           2823 non-null   int64  \n",
      " 10  PRODUCTLINE       2823 non-null   object \n",
      " 11  MSRP              2823 non-null   int64  \n",
      " 12  PRODUCTCODE       2823 non-null   object \n",
      " 13  CUSTOMERNAME      2823 non-null   object \n",
      " 14  PHONE             2823 non-null   object \n",
      " 15  ADDRESSLINE1      2823 non-null   object \n",
      " 16  ADDRESSLINE2      302 non-null    object \n",
      " 17  CITY              2823 non-null   object \n",
      " 18  STATE             1337 non-null   object \n",
      " 19  POSTALCODE        2747 non-null   object \n",
      " 20  COUNTRY           2823 non-null   object \n",
      " 21  TERRITORY         1749 non-null   object \n",
      " 22  CONTACTLASTNAME   2823 non-null   object \n",
      " 23  CONTACTFIRSTNAME  2823 non-null   object \n",
      " 24  DEALSIZE          2823 non-null   object \n",
      "dtypes: float64(2), int64(7), object(16)\n",
      "memory usage: 551.5+ KB\n"
     ]
    }
   ],
   "source": [
    "data.info()"
   ]
  },
  {
   "cell_type": "code",
   "execution_count": null,
   "id": "34988143",
   "metadata": {},
   "outputs": [],
   "source": []
  },
  {
   "cell_type": "markdown",
   "id": "e9e42dcb",
   "metadata": {},
   "source": [
    "<h1>4) Cleaning the Data <h1>"
   ]
  },
  {
   "cell_type": "markdown",
   "id": "3656e028",
   "metadata": {},
   "source": [
    "<h3>a) Handling missing values<h23>"
   ]
  },
  {
   "cell_type": "code",
   "execution_count": 5,
   "id": "16d58e87",
   "metadata": {},
   "outputs": [
    {
     "name": "stdout",
     "output_type": "stream",
     "text": [
      "There are/is 5157 missing values in this dataset\n"
     ]
    }
   ],
   "source": [
    "if data.isnull().sum().sum() > 0:\n",
    "    print(f'There are/is {data.isnull().sum().sum()} missing values in this dataset')\n",
    "else:\n",
    "    print('There are no missing values in this dataset')"
   ]
  },
  {
   "cell_type": "code",
   "execution_count": 6,
   "id": "571a2a63",
   "metadata": {},
   "outputs": [],
   "source": [
    "# addressline2 are filled with none\n",
    "data.ADDRESSLINE2 = data.ADDRESSLINE2.replace(np.nan, 'None')\n",
    "\n",
    "# nan values for State are filled with  'Not given' \n",
    "data.STATE = data.STATE.replace(np.nan, 'Not given')\n",
    "\n",
    "# nan values for postalcode are filled with leading zero's\n",
    "data.POSTALCODE = data.POSTALCODE.replace(np.nan, 00000)\n",
    "\n",
    "# nan values for territory are filled with 'Not given'\n",
    "data.TERRITORY = data.TERRITORY.replace(np.nan, 'Not given')"
   ]
  },
  {
   "cell_type": "code",
   "execution_count": 7,
   "id": "1e5fd683",
   "metadata": {},
   "outputs": [
    {
     "name": "stdout",
     "output_type": "stream",
     "text": [
      "There are no missing values in this dataset\n"
     ]
    }
   ],
   "source": [
    "if data.isnull().sum().sum() > 0:\n",
    "    print(f'There are/is {data.isnull().sum().sum()} missing values in this dataset')\n",
    "else:\n",
    "    print('There are no missing values in this dataset')"
   ]
  },
  {
   "cell_type": "markdown",
   "id": "97e5e66c",
   "metadata": {},
   "source": [
    "<h3>b) Converting the wrong data types<h3>"
   ]
  },
  {
   "cell_type": "code",
   "execution_count": 8,
   "id": "c7e75dc5",
   "metadata": {},
   "outputs": [],
   "source": [
    "# ORDERDATE column was converted to a timestamp\n",
    "data['ORDERDATE'] = pd.to_datetime(data['ORDERDATE'])"
   ]
  },
  {
   "cell_type": "markdown",
   "id": "76b43f8d",
   "metadata": {},
   "source": [
    "<h3>c) Dropping Unecessary columns<h3>"
   ]
  },
  {
   "cell_type": "code",
   "execution_count": 9,
   "id": "bdf20ebf",
   "metadata": {},
   "outputs": [],
   "source": [
    "# column MONTH_ID & YEAR_ID can be found in ORDERDATE\n",
    "date = data.drop(['MONTH_ID', 'YEAR_ID'], axis=1)"
   ]
  },
  {
   "cell_type": "code",
   "execution_count": 10,
   "id": "2c78a5f6",
   "metadata": {},
   "outputs": [
    {
     "data": {
      "text/plain": [
       "ORDERNUMBER                  int64\n",
       "QUANTITYORDERED              int64\n",
       "PRICEEACH                  float64\n",
       "ORDERLINENUMBER              int64\n",
       "SALES                      float64\n",
       "ORDERDATE           datetime64[ns]\n",
       "STATUS                      object\n",
       "QTR_ID                       int64\n",
       "MONTH_ID                     int64\n",
       "YEAR_ID                      int64\n",
       "PRODUCTLINE                 object\n",
       "MSRP                         int64\n",
       "PRODUCTCODE                 object\n",
       "CUSTOMERNAME                object\n",
       "PHONE                       object\n",
       "ADDRESSLINE1                object\n",
       "ADDRESSLINE2                object\n",
       "CITY                        object\n",
       "STATE                       object\n",
       "POSTALCODE                  object\n",
       "COUNTRY                     object\n",
       "TERRITORY                   object\n",
       "CONTACTLASTNAME             object\n",
       "CONTACTFIRSTNAME            object\n",
       "DEALSIZE                    object\n",
       "dtype: object"
      ]
     },
     "execution_count": 10,
     "metadata": {},
     "output_type": "execute_result"
    }
   ],
   "source": [
    "data.dtypes"
   ]
  },
  {
   "cell_type": "markdown",
   "id": "b8243966",
   "metadata": {},
   "source": [
    "<h2>Data Analysis<h2>"
   ]
  },
  {
   "cell_type": "markdown",
   "id": "7507f31b",
   "metadata": {},
   "source": [
    "<h2>What the top 5 countries with the highest sales and lowest<h2>"
   ]
  },
  {
   "cell_type": "code",
   "execution_count": 11,
   "id": "2112aa9e",
   "metadata": {},
   "outputs": [
    {
     "data": {
      "text/html": [
       "<div>\n",
       "<style scoped>\n",
       "    .dataframe tbody tr th:only-of-type {\n",
       "        vertical-align: middle;\n",
       "    }\n",
       "\n",
       "    .dataframe tbody tr th {\n",
       "        vertical-align: top;\n",
       "    }\n",
       "\n",
       "    .dataframe thead th {\n",
       "        text-align: right;\n",
       "    }\n",
       "</style>\n",
       "<table border=\"1\" class=\"dataframe\">\n",
       "  <thead>\n",
       "    <tr style=\"text-align: right;\">\n",
       "      <th></th>\n",
       "      <th>COUNTRY</th>\n",
       "      <th>SALES</th>\n",
       "    </tr>\n",
       "  </thead>\n",
       "  <tbody>\n",
       "    <tr>\n",
       "      <th>0</th>\n",
       "      <td>USA</td>\n",
       "      <td>3627982.83</td>\n",
       "    </tr>\n",
       "    <tr>\n",
       "      <th>1</th>\n",
       "      <td>Spain</td>\n",
       "      <td>1215686.92</td>\n",
       "    </tr>\n",
       "    <tr>\n",
       "      <th>2</th>\n",
       "      <td>France</td>\n",
       "      <td>1110916.52</td>\n",
       "    </tr>\n",
       "    <tr>\n",
       "      <th>3</th>\n",
       "      <td>Australia</td>\n",
       "      <td>630623.10</td>\n",
       "    </tr>\n",
       "    <tr>\n",
       "      <th>4</th>\n",
       "      <td>UK</td>\n",
       "      <td>478880.46</td>\n",
       "    </tr>\n",
       "  </tbody>\n",
       "</table>\n",
       "</div>"
      ],
      "text/plain": [
       "     COUNTRY       SALES\n",
       "0        USA  3627982.83\n",
       "1      Spain  1215686.92\n",
       "2     France  1110916.52\n",
       "3  Australia   630623.10\n",
       "4         UK   478880.46"
      ]
     },
     "execution_count": 11,
     "metadata": {},
     "output_type": "execute_result"
    }
   ],
   "source": [
    "# grouping the dataset by country against sales\n",
    "Top_country = data.groupby('COUNTRY')['SALES'].sum()\n",
    "\n",
    "# Converting the series into dataframe and sort the sales per country\n",
    "Top_country = Top_country.to_frame().sort_values('SALES', ascending=False)\n",
    "\n",
    "Top_country = Top_country.reset_index()\n",
    "\n",
    "Top_5 = Top_country.head()\n",
    "Top_5"
   ]
  },
  {
   "cell_type": "code",
   "execution_count": 12,
   "id": "68d8cdc0",
   "metadata": {},
   "outputs": [
    {
     "data": {
      "image/png": "[encoded data removed]",
      "text/plain": [
       "<Figure size 720x360 with 1 Axes>"
      ]
     },
     "metadata": {
      "needs_background": "light"
     },
     "output_type": "display_data"
    }
   ],
   "source": [
    "# Creating a bar graph\n",
    "Top = Top_5['COUNTRY']\n",
    "Top_sellers = Top_5['SALES']\n",
    "\n",
    "fig = plt.figure(figsize = (10,5)) \n",
    "plt.bar(Top, Top_sellers, color = '#0072ce', width = 0.4)\n",
    "plt.xlabel(\"Country\")\n",
    "plt.ylabel(\"Top Sellers\")\n",
    "plt.title(\"Top 5 buying country\")\n",
    "plt.show()"
   ]
  },
  {
   "cell_type": "markdown",
   "id": "965fd386",
   "metadata": {},
   "source": [
    "<h3> USA, Spain, France, Australia, and UK, are the top most ordering countries<h3>"
   ]
  },
  {
   "cell_type": "code",
   "execution_count": null,
   "id": "b7a5af3a",
   "metadata": {},
   "outputs": [],
   "source": []
  },
  {
   "cell_type": "raw",
   "id": "ba9382e0",
   "metadata": {},
   "source": [
    "least_5 = Top_country.tail()"
   ]
  },
  {
   "cell_type": "code",
   "execution_count": 17,
   "id": "1502dea5",
   "metadata": {},
   "outputs": [
    {
     "data": {
      "text/html": [
       "<div>\n",
       "<style scoped>\n",
       "    .dataframe tbody tr th:only-of-type {\n",
       "        vertical-align: middle;\n",
       "    }\n",
       "\n",
       "    .dataframe tbody tr th {\n",
       "        vertical-align: top;\n",
       "    }\n",
       "\n",
       "    .dataframe thead th {\n",
       "        text-align: right;\n",
       "    }\n",
       "</style>\n",
       "<table border=\"1\" class=\"dataframe\">\n",
       "  <thead>\n",
       "    <tr style=\"text-align: right;\">\n",
       "      <th></th>\n",
       "      <th>COUNTRY</th>\n",
       "      <th>SALES</th>\n",
       "    </tr>\n",
       "  </thead>\n",
       "  <tbody>\n",
       "    <tr>\n",
       "      <th>14</th>\n",
       "      <td>Japan</td>\n",
       "      <td>188167.81</td>\n",
       "    </tr>\n",
       "    <tr>\n",
       "      <th>15</th>\n",
       "      <td>Switzerland</td>\n",
       "      <td>117713.56</td>\n",
       "    </tr>\n",
       "    <tr>\n",
       "      <th>16</th>\n",
       "      <td>Belgium</td>\n",
       "      <td>108412.62</td>\n",
       "    </tr>\n",
       "    <tr>\n",
       "      <th>17</th>\n",
       "      <td>Philippines</td>\n",
       "      <td>94015.73</td>\n",
       "    </tr>\n",
       "    <tr>\n",
       "      <th>18</th>\n",
       "      <td>Ireland</td>\n",
       "      <td>57756.43</td>\n",
       "    </tr>\n",
       "  </tbody>\n",
       "</table>\n",
       "</div>"
      ],
      "text/plain": [
       "        COUNTRY      SALES\n",
       "14        Japan  188167.81\n",
       "15  Switzerland  117713.56\n",
       "16      Belgium  108412.62\n",
       "17  Philippines   94015.73\n",
       "18      Ireland   57756.43"
      ]
     },
     "execution_count": 17,
     "metadata": {},
     "output_type": "execute_result"
    }
   ],
   "source": [
    "least_5.head()"
   ]
  },
  {
   "cell_type": "code",
   "execution_count": 18,
   "id": "26ebef12",
   "metadata": {},
   "outputs": [
    {
     "data": {
      "image/png": "[encoded data removed]",
      "text/plain": [
       "<Figure size 720x360 with 1 Axes>"
      ]
     },
     "metadata": {
      "needs_background": "light"
     },
     "output_type": "display_data"
    }
   ],
   "source": [
    "least = least_5['COUNTRY']\n",
    "least_sales = least_5['SALES']\n",
    "\n",
    "fig = plt.figure(figsize = (10,5)) \n",
    "plt.bar(least, least_sales, color = '#0072ce', width = 0.4)\n",
    "plt.xlabel(\"Countries\")\n",
    "plt.ylabel(\"Least Sales\")\n",
    "plt.title(\"Top 5 least buying Countries\")\n",
    "plt.show()"
   ]
  },
  {
   "cell_type": "markdown",
   "id": "1f6ffac1",
   "metadata": {},
   "source": [
    "<h3>Top less odering countries are Japan, Switzerland, Belgium, Phillipines and Island<h3>"
   ]
  },
  {
   "cell_type": "code",
   "execution_count": null,
   "id": "8e4c6477",
   "metadata": {},
   "outputs": [],
   "source": []
  }
 ],
 "metadata": {
  "kernelspec": {
   "display_name": "Python 3 (ipykernel)",
   "language": "python",
   "name": "python3"
  },
  "language_info": {
   "codemirror_mode": {
    "name": "ipython",
    "version": 3
   },
   "file_extension": ".py",
   "mimetype": "text/x-python",
   "name": "python",
   "nbconvert_exporter": "python",
   "pygments_lexer": "ipython3",
   "version": "3.9.12"
  }
 },
 "nbformat": 4,
 "nbformat_minor": 5
}
